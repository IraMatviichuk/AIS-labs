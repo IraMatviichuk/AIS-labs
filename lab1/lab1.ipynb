{
 "cells": [
  {
   "cell_type": "code",
   "execution_count": 1,
   "metadata": {},
   "outputs": [],
   "source": [
    "import os\n",
    "import re\n",
    "\n",
    "import numpy as np\n",
    "import pandas as pd\n",
    "import seaborn as sns\n",
    "\n",
    "import matplotlib.pyplot as plt\n",
    "\n",
    "from sklearn.preprocessing import LabelBinarizer\n",
    "from sklearn.model_selection import train_test_split\n",
    "from sklearn.feature_extraction.text import CountVectorizer, TfidfVectorizer\n",
    "from sklearn.linear_model import LogisticRegression, SGDClassifier\n",
    "from sklearn.dummy import DummyClassifier\n",
    "from sklearn.naive_bayes import MultinomialNB\n",
    "from sklearn.svm import SVC\n",
    "from sklearn.metrics import confusion_matrix, accuracy_score, f1_score, precision_score, recall_score\n",
    "\n",
    "import nltk\n",
    "from nltk.corpus import stopwords\n",
    "from nltk.tokenize import word_tokenize\n",
    "from nltk.stem import WordNetLemmatizer\n",
    "\n",
    "from bs4 import BeautifulSoup"
   ]
  },
  {
   "cell_type": "code",
   "execution_count": 2,
   "metadata": {},
   "outputs": [],
   "source": [
    "random_state = 0\n",
    "cpu_count = os.cpu_count() - 1\n",
    "heatmap_cmap = sns.color_palette(\"Blues\", as_cmap=True)"
   ]
  },
  {
   "cell_type": "code",
   "execution_count": 3,
   "metadata": {},
   "outputs": [],
   "source": [
    "def calculate_metrics(y_test, y_pred):\n",
    "    accuracy_metric = accuracy_score(y_test, y_pred)\n",
    "    f1_metric = f1_score(y_test, y_pred)\n",
    "    precision_metric = precision_score(y_test, y_pred)\n",
    "    recall_metric = recall_score(y_test, y_pred)\n",
    "\n",
    "    return [accuracy_metric, f1_metric, precision_metric, recall_metric]"
   ]
  },
  {
   "cell_type": "code",
   "execution_count": 4,
   "metadata": {},
   "outputs": [],
   "source": [
    "def print_metrics(y_test, y_pred):\n",
    "    accuracy_metric = accuracy_score(y_test, y_pred)\n",
    "    f1_metric = f1_score(y_test, y_pred)\n",
    "    precision_metric = precision_score(y_test, y_pred)\n",
    "    recall_metric = recall_score(y_test, y_pred)\n",
    "    print(f\"accuracy:  {round(accuracy_metric, 2)}\")\n",
    "    print(f\"f1:        {round(f1_metric, 2)}\")\n",
    "    print(f\"precision: {round(precision_metric, 2)}\")\n",
    "    print(f\"recall:    {round(recall_metric, 2)}\")"
   ]
  },
  {
   "cell_type": "code",
   "execution_count": 5,
   "metadata": {},
   "outputs": [
    {
     "name": "stderr",
     "output_type": "stream",
     "text": [
      "[nltk_data] Downloading package stopwords to /home/mia/nltk_data...\n",
      "[nltk_data]   Package stopwords is already up-to-date!\n",
      "[nltk_data] Downloading package punkt to /home/mia/nltk_data...\n",
      "[nltk_data]   Package punkt is already up-to-date!\n"
     ]
    },
    {
     "data": {
      "text/plain": [
       "True"
      ]
     },
     "execution_count": 5,
     "metadata": {},
     "output_type": "execute_result"
    }
   ],
   "source": [
    "nltk.download(\"stopwords\")\n",
    "nltk.download(\"punkt\")"
   ]
  },
  {
   "cell_type": "code",
   "execution_count": 6,
   "metadata": {},
   "outputs": [
    {
     "name": "stdout",
     "output_type": "stream",
     "text": [
      "Dataset size: (50000, 2)\n"
     ]
    },
    {
     "data": {
      "text/html": [
       "<div>\n",
       "<style scoped>\n",
       "    .dataframe tbody tr th:only-of-type {\n",
       "        vertical-align: middle;\n",
       "    }\n",
       "\n",
       "    .dataframe tbody tr th {\n",
       "        vertical-align: top;\n",
       "    }\n",
       "\n",
       "    .dataframe thead th {\n",
       "        text-align: right;\n",
       "    }\n",
       "</style>\n",
       "<table border=\"1\" class=\"dataframe\">\n",
       "  <thead>\n",
       "    <tr style=\"text-align: right;\">\n",
       "      <th></th>\n",
       "      <th>review</th>\n",
       "      <th>sentiment</th>\n",
       "    </tr>\n",
       "  </thead>\n",
       "  <tbody>\n",
       "    <tr>\n",
       "      <th>0</th>\n",
       "      <td>One of the other reviewers has mentioned that ...</td>\n",
       "      <td>positive</td>\n",
       "    </tr>\n",
       "    <tr>\n",
       "      <th>1</th>\n",
       "      <td>A wonderful little production. &lt;br /&gt;&lt;br /&gt;The...</td>\n",
       "      <td>positive</td>\n",
       "    </tr>\n",
       "    <tr>\n",
       "      <th>2</th>\n",
       "      <td>I thought this was a wonderful way to spend ti...</td>\n",
       "      <td>positive</td>\n",
       "    </tr>\n",
       "    <tr>\n",
       "      <th>3</th>\n",
       "      <td>Basically there's a family where a little boy ...</td>\n",
       "      <td>negative</td>\n",
       "    </tr>\n",
       "    <tr>\n",
       "      <th>4</th>\n",
       "      <td>Petter Mattei's \"Love in the Time of Money\" is...</td>\n",
       "      <td>positive</td>\n",
       "    </tr>\n",
       "  </tbody>\n",
       "</table>\n",
       "</div>"
      ],
      "text/plain": [
       "                                              review sentiment\n",
       "0  One of the other reviewers has mentioned that ...  positive\n",
       "1  A wonderful little production. <br /><br />The...  positive\n",
       "2  I thought this was a wonderful way to spend ti...  positive\n",
       "3  Basically there's a family where a little boy ...  negative\n",
       "4  Petter Mattei's \"Love in the Time of Money\" is...  positive"
      ]
     },
     "execution_count": 6,
     "metadata": {},
     "output_type": "execute_result"
    }
   ],
   "source": [
    "df = pd.read_csv(\"./data/IMDB Dataset.csv\")\n",
    "print(f\"Dataset size: {df.shape}\")\n",
    "df.head()"
   ]
  },
  {
   "cell_type": "markdown",
   "metadata": {},
   "source": [
    "## Minimal EDA"
   ]
  },
  {
   "cell_type": "code",
   "execution_count": 7,
   "metadata": {},
   "outputs": [],
   "source": [
    "labels_distribution = df[\"sentiment\"].value_counts()"
   ]
  },
  {
   "cell_type": "code",
   "execution_count": 8,
   "metadata": {},
   "outputs": [
    {
     "name": "stdout",
     "output_type": "stream",
     "text": [
      "Labels distribution:\n",
      "positive    25000\n",
      "negative    25000\n",
      "Name: sentiment, dtype: int64\n",
      "\n"
     ]
    },
    {
     "data": {
      "text/plain": [
       "<AxesSubplot:>"
      ]
     },
     "execution_count": 8,
     "metadata": {},
     "output_type": "execute_result"
    },
    {
     "data": {
      "image/png": "[encoded data removed]",
      "text/plain": [
       "<Figure size 432x288 with 1 Axes>"
      ]
     },
     "metadata": {
      "needs_background": "light"
     },
     "output_type": "display_data"
    }
   ],
   "source": [
    "print(f\"Labels distribution:\\n{labels_distribution}\\n\")\n",
    "sns.barplot(x=labels_distribution.index, y=labels_distribution.values)"
   ]
  },
  {
   "cell_type": "code",
   "execution_count": 9,
   "metadata": {},
   "outputs": [
    {
     "name": "stdout",
     "output_type": "stream",
     "text": [
      "Number of duplicated reviews: (418, 2)\n"
     ]
    },
    {
     "data": {
      "text/html": [
       "<div>\n",
       "<style scoped>\n",
       "    .dataframe tbody tr th:only-of-type {\n",
       "        vertical-align: middle;\n",
       "    }\n",
       "\n",
       "    .dataframe tbody tr th {\n",
       "        vertical-align: top;\n",
       "    }\n",
       "\n",
       "    .dataframe thead th {\n",
       "        text-align: right;\n",
       "    }\n",
       "</style>\n",
       "<table border=\"1\" class=\"dataframe\">\n",
       "  <thead>\n",
       "    <tr style=\"text-align: right;\">\n",
       "      <th></th>\n",
       "      <th>review</th>\n",
       "      <th>sentiment</th>\n",
       "    </tr>\n",
       "  </thead>\n",
       "  <tbody>\n",
       "    <tr>\n",
       "      <th>3537</th>\n",
       "      <td>Quite what the producers of this appalling ada...</td>\n",
       "      <td>negative</td>\n",
       "    </tr>\n",
       "    <tr>\n",
       "      <th>3769</th>\n",
       "      <td>My favourite police series of all time turns t...</td>\n",
       "      <td>positive</td>\n",
       "    </tr>\n",
       "    <tr>\n",
       "      <th>4391</th>\n",
       "      <td>Beautiful film, pure Cassavetes style. Gena Ro...</td>\n",
       "      <td>positive</td>\n",
       "    </tr>\n",
       "    <tr>\n",
       "      <th>6352</th>\n",
       "      <td>If you liked the Grinch movie... go watch that...</td>\n",
       "      <td>negative</td>\n",
       "    </tr>\n",
       "    <tr>\n",
       "      <th>6479</th>\n",
       "      <td>I want very much to believe that the above quo...</td>\n",
       "      <td>negative</td>\n",
       "    </tr>\n",
       "  </tbody>\n",
       "</table>\n",
       "</div>"
      ],
      "text/plain": [
       "                                                 review sentiment\n",
       "3537  Quite what the producers of this appalling ada...  negative\n",
       "3769  My favourite police series of all time turns t...  positive\n",
       "4391  Beautiful film, pure Cassavetes style. Gena Ro...  positive\n",
       "6352  If you liked the Grinch movie... go watch that...  negative\n",
       "6479  I want very much to believe that the above quo...  negative"
      ]
     },
     "execution_count": 9,
     "metadata": {},
     "output_type": "execute_result"
    }
   ],
   "source": [
    "duplicates = df[df[\"review\"].duplicated()]\n",
    "print(f\"Number of duplicated reviews: {duplicates.shape}\")\n",
    "duplicates.head()"
   ]
  },
  {
   "cell_type": "code",
   "execution_count": 10,
   "metadata": {},
   "outputs": [],
   "source": [
    "df = df.drop_duplicates()"
   ]
  },
  {
   "cell_type": "markdown",
   "metadata": {},
   "source": [
    "## Preprocessing"
   ]
  },
  {
   "cell_type": "code",
   "execution_count": 11,
   "metadata": {},
   "outputs": [],
   "source": [
    "lemmatizer = WordNetLemmatizer()\n",
    "stop_words = stopwords.words(\"english\")"
   ]
  },
  {
   "cell_type": "code",
   "execution_count": 12,
   "metadata": {},
   "outputs": [],
   "source": [
    "def remove_html(text):\n",
    "    soup = BeautifulSoup(text, \"html.parser\")\n",
    "    return soup.get_text()\n",
    "\n",
    "def remove_square_brackets(text):\n",
    "    return re.sub(\"\\[[^]]*\\]\", \"\", text)\n",
    "\n",
    "def remove_special_characters(text):\n",
    "    pattern = r\"[^a-zA-z0-9\\s]\"\n",
    "    text = re.sub(pattern, \"\", text)\n",
    "    return text\n",
    "\n",
    "def clean_text(text):\n",
    "    text = remove_html(text)\n",
    "    text = remove_square_brackets(text)\n",
    "    text = remove_special_characters(text)\n",
    "    return text"
   ]
  },
  {
   "cell_type": "code",
   "execution_count": 13,
   "metadata": {},
   "outputs": [],
   "source": [
    "df[\"review\"] = df[\"review\"].apply(clean_text)"
   ]
  },
  {
   "cell_type": "code",
   "execution_count": 14,
   "metadata": {},
   "outputs": [],
   "source": [
    "def preprocess(text):\n",
    "    tokens = word_tokenize(text.lower())\n",
    "    toknes = [token.strip() for token in tokens]\n",
    "    filtered_tokens = list(filter(lambda word: word not in stop_words, tokens))\n",
    "    lemmatized_text = \" \".join([lemmatizer.lemmatize(token) for token in filtered_tokens])\n",
    "\n",
    "    return lemmatized_text"
   ]
  },
  {
   "cell_type": "code",
   "execution_count": 15,
   "metadata": {},
   "outputs": [],
   "source": [
    "df[\"review\"] = df[\"review\"].apply(preprocess)"
   ]
  },
  {
   "cell_type": "code",
   "execution_count": 16,
   "metadata": {},
   "outputs": [],
   "source": [
    "lb = LabelBinarizer()\n",
    "df[\"labels\"] = lb.fit_transform(df[\"sentiment\"])"
   ]
  },
  {
   "cell_type": "markdown",
   "metadata": {},
   "source": [
    "## Train/test split"
   ]
  },
  {
   "cell_type": "code",
   "execution_count": 17,
   "metadata": {},
   "outputs": [
    {
     "name": "stdout",
     "output_type": "stream",
     "text": [
      "Train dataset size: (37186, 3)\n",
      "Test dataset size: (12396, 3)\n"
     ]
    }
   ],
   "source": [
    "df_train, df_test = train_test_split(\n",
    "    df,\n",
    "    random_state=random_state,\n",
    "    shuffle=True,\n",
    ")\n",
    "print(f\"Train dataset size: {df_train.shape}\")\n",
    "print(f\"Test dataset size: {df_test.shape}\")"
   ]
  },
  {
   "cell_type": "code",
   "execution_count": 18,
   "metadata": {
    "scrolled": true
   },
   "outputs": [
    {
     "data": {
      "text/plain": [
       "positive    18640\n",
       "negative    18546\n",
       "Name: sentiment, dtype: int64"
      ]
     },
     "execution_count": 18,
     "metadata": {},
     "output_type": "execute_result"
    }
   ],
   "source": [
    "df_train[\"sentiment\"].value_counts()"
   ]
  },
  {
   "cell_type": "code",
   "execution_count": 19,
   "metadata": {},
   "outputs": [
    {
     "data": {
      "text/plain": [
       "positive    6244\n",
       "negative    6152\n",
       "Name: sentiment, dtype: int64"
      ]
     },
     "execution_count": 19,
     "metadata": {},
     "output_type": "execute_result"
    }
   ],
   "source": [
    "df_test[\"sentiment\"].value_counts()"
   ]
  },
  {
   "cell_type": "markdown",
   "metadata": {},
   "source": [
    "## Feature extraction"
   ]
  },
  {
   "cell_type": "markdown",
   "metadata": {},
   "source": [
    "#### Count vectorizer"
   ]
  },
  {
   "cell_type": "code",
   "execution_count": 20,
   "metadata": {},
   "outputs": [
    {
     "name": "stdout",
     "output_type": "stream",
     "text": [
      "CPU times: user 51.4 s, sys: 1.47 s, total: 52.9 s\n",
      "Wall time: 53.1 s\n"
     ]
    }
   ],
   "source": [
    "%%time\n",
    "cv = CountVectorizer(ngram_range=(1,3))\n",
    "x_train_cv = cv.fit_transform(df_train[\"review\"])\n",
    "x_test_cv = cv.transform(df_test[\"review\"])"
   ]
  },
  {
   "cell_type": "markdown",
   "metadata": {},
   "source": [
    "#### Tfidf vectorizer"
   ]
  },
  {
   "cell_type": "code",
   "execution_count": 21,
   "metadata": {},
   "outputs": [
    {
     "name": "stdout",
     "output_type": "stream",
     "text": [
      "CPU times: user 53.2 s, sys: 1.99 s, total: 55.2 s\n",
      "Wall time: 55.1 s\n"
     ]
    }
   ],
   "source": [
    "%%time\n",
    "tv = TfidfVectorizer(ngram_range=(1,3))\n",
    "x_train_tv = tv.fit_transform(df_train[\"review\"])\n",
    "x_test_tv = tv.transform(df_test[\"review\"])"
   ]
  },
  {
   "cell_type": "code",
   "execution_count": 22,
   "metadata": {},
   "outputs": [],
   "source": [
    "y_train = df_train[\"labels\"].ravel()\n",
    "y_test = df_test[\"labels\"].ravel()"
   ]
  },
  {
   "cell_type": "markdown",
   "metadata": {},
   "source": [
    "## Training"
   ]
  },
  {
   "cell_type": "markdown",
   "metadata": {},
   "source": [
    "### Logistic regression"
   ]
  },
  {
   "cell_type": "code",
   "execution_count": 23,
   "metadata": {},
   "outputs": [
    {
     "name": "stdout",
     "output_type": "stream",
     "text": [
      "CPU times: user 677 ms, sys: 753 ms, total: 1.43 s\n",
      "Wall time: 45.9 s\n"
     ]
    }
   ],
   "source": [
    "%%time\n",
    "lr_cv = LogisticRegression(\n",
    "    C=0.001,\n",
    "    random_state=random_state,\n",
    "    n_jobs=cpu_count,\n",
    ").fit(x_train_cv, y_train)"
   ]
  },
  {
   "cell_type": "code",
   "execution_count": 24,
   "metadata": {},
   "outputs": [
    {
     "name": "stdout",
     "output_type": "stream",
     "text": [
      "CPU times: user 112 ms, sys: 136 ms, total: 248 ms\n",
      "Wall time: 47.7 s\n"
     ]
    }
   ],
   "source": [
    "%%time\n",
    "lr_tv = LogisticRegression(\n",
    "    C=0.15,\n",
    "    random_state=random_state,\n",
    "    n_jobs=cpu_count,\n",
    ").fit(x_train_tv, y_train)"
   ]
  },
  {
   "cell_type": "code",
   "execution_count": 25,
   "metadata": {},
   "outputs": [],
   "source": [
    "y_pred_lr_cv = lr_cv.predict(x_test_cv)\n",
    "y_pred_lr_tv = lr_tv.predict(x_test_tv)"
   ]
  },
  {
   "cell_type": "code",
   "execution_count": 26,
   "metadata": {},
   "outputs": [],
   "source": [
    "y_pred_train_lr_cv = lr_cv.predict(x_train_cv)\n",
    "y_pred_train_lr_tv = lr_tv.predict(x_train_tv)"
   ]
  },
  {
   "cell_type": "code",
   "execution_count": 27,
   "metadata": {
    "scrolled": true
   },
   "outputs": [
    {
     "name": "stdout",
     "output_type": "stream",
     "text": [
      "Test metrics for logistic regression + count vectorizer:\n",
      "accuracy:  0.86\n",
      "f1:        0.86\n",
      "precision: 0.85\n",
      "recall:    0.88\n",
      "\n",
      "Train metrics for logistic regression + count vectorizer:\n",
      "accuracy:  0.89\n",
      "f1:        0.9\n",
      "precision: 0.88\n",
      "recall:    0.91\n"
     ]
    }
   ],
   "source": [
    "print(\"Test metrics for logistic regression + count vectorizer:\")\n",
    "print_metrics(y_test, y_pred_lr_cv)\n",
    "print(\"\\nTrain metrics for logistic regression + count vectorizer:\")\n",
    "print_metrics(y_train, y_pred_train_lr_cv)"
   ]
  },
  {
   "cell_type": "code",
   "execution_count": 28,
   "metadata": {},
   "outputs": [
    {
     "name": "stdout",
     "output_type": "stream",
     "text": [
      "Test metrics for logistic regression + tfidf vectorizer:\n",
      "accuracy:  0.85\n",
      "f1:        0.85\n",
      "precision: 0.85\n",
      "recall:    0.86\n",
      "\n",
      "Train metrics for logistic regression + tfidf vectorizer:\n",
      "accuracy:  0.9\n",
      "f1:        0.9\n",
      "precision: 0.88\n",
      "recall:    0.93\n"
     ]
    }
   ],
   "source": [
    "print(\"Test metrics for logistic regression + tfidf vectorizer:\")\n",
    "print_metrics(y_test, y_pred_lr_tv)\n",
    "print(\"\\nTrain metrics for logistic regression + tfidf vectorizer:\")\n",
    "print_metrics(y_train, y_pred_train_lr_tv)"
   ]
  },
  {
   "cell_type": "code",
   "execution_count": 29,
   "metadata": {},
   "outputs": [
    {
     "data": {
      "text/plain": [
       "<AxesSubplot:>"
      ]
     },
     "execution_count": 29,
     "metadata": {},
     "output_type": "execute_result"
    },
    {
     "data": {
      "image/png": "[encoded data removed]",
      "text/plain": [
       "<Figure size 432x288 with 2 Axes>"
      ]
     },
     "metadata": {
      "needs_background": "light"
     },
     "output_type": "display_data"
    }
   ],
   "source": [
    "sns.heatmap(\n",
    "    confusion_matrix(y_test, y_pred_lr_cv),\n",
    "    annot=True,\n",
    "    fmt=\"d\",\n",
    "    cmap=heatmap_cmap,\n",
    ")"
   ]
  },
  {
   "cell_type": "code",
   "execution_count": 30,
   "metadata": {},
   "outputs": [
    {
     "data": {
      "text/plain": [
       "<AxesSubplot:>"
      ]
     },
     "execution_count": 30,
     "metadata": {},
     "output_type": "execute_result"
    },
    {
     "data": {
      "image/png": "[encoded data removed]",
      "text/plain": [
       "<Figure size 432x288 with 2 Axes>"
      ]
     },
     "metadata": {
      "needs_background": "light"
     },
     "output_type": "display_data"
    }
   ],
   "source": [
    "sns.heatmap(\n",
    "    confusion_matrix(y_test, y_pred_lr_tv),\n",
    "    annot=True,\n",
    "    fmt=\"d\",\n",
    "    cmap=heatmap_cmap,\n",
    ")"
   ]
  },
  {
   "cell_type": "markdown",
   "metadata": {},
   "source": [
    "### SGD classifier"
   ]
  },
  {
   "cell_type": "code",
   "execution_count": 31,
   "metadata": {},
   "outputs": [
    {
     "name": "stdout",
     "output_type": "stream",
     "text": [
      "CPU times: user 2.26 s, sys: 545 ms, total: 2.81 s\n",
      "Wall time: 1.75 s\n"
     ]
    }
   ],
   "source": [
    "%%time\n",
    "sgdc_cv = SGDClassifier(\n",
    "    loss=\"log\",\n",
    "    alpha=0.075,\n",
    "    random_state=random_state,\n",
    "    n_jobs=cpu_count,\n",
    ").fit(x_train_cv, y_train)"
   ]
  },
  {
   "cell_type": "code",
   "execution_count": 32,
   "metadata": {},
   "outputs": [
    {
     "name": "stdout",
     "output_type": "stream",
     "text": [
      "CPU times: user 2.09 s, sys: 537 ms, total: 2.63 s\n",
      "Wall time: 1.62 s\n"
     ]
    }
   ],
   "source": [
    "%%time\n",
    "sgdc_tv = SGDClassifier(\n",
    "    loss=\"log\",\n",
    "    alpha=0.0002,\n",
    "    random_state=random_state,\n",
    "    n_jobs=cpu_count,\n",
    ").fit(x_train_tv, y_train)"
   ]
  },
  {
   "cell_type": "code",
   "execution_count": 33,
   "metadata": {},
   "outputs": [],
   "source": [
    "y_pred_sgdc_cv = sgdc_cv.predict(x_test_cv)\n",
    "y_pred_sgdc_tv = sgdc_tv.predict(x_test_tv)"
   ]
  },
  {
   "cell_type": "code",
   "execution_count": 34,
   "metadata": {},
   "outputs": [],
   "source": [
    "y_pred_train_sgdc_cv = sgdc_cv.predict(x_train_cv)\n",
    "y_pred_train_sgdc_tv = sgdc_tv.predict(x_train_tv)"
   ]
  },
  {
   "cell_type": "code",
   "execution_count": 35,
   "metadata": {},
   "outputs": [
    {
     "name": "stdout",
     "output_type": "stream",
     "text": [
      "Test metrics for sgd classifier + count vectorizer:\n",
      "accuracy:  0.84\n",
      "f1:        0.84\n",
      "precision: 0.84\n",
      "recall:    0.85\n",
      "\n",
      "Train metrics for sgd classifier + count vectorizer:\n",
      "accuracy:  0.86\n",
      "f1:        0.87\n",
      "precision: 0.86\n",
      "recall:    0.88\n"
     ]
    }
   ],
   "source": [
    "print(\"Test metrics for sgd classifier + count vectorizer:\")\n",
    "print_metrics(y_test, y_pred_sgdc_cv)\n",
    "print(\"\\nTrain metrics for sgd classifier + count vectorizer:\")\n",
    "print_metrics(y_train, y_pred_train_sgdc_cv)"
   ]
  },
  {
   "cell_type": "code",
   "execution_count": 36,
   "metadata": {},
   "outputs": [
    {
     "name": "stdout",
     "output_type": "stream",
     "text": [
      "Test metrics for sgd classifier + tfidf vectorizer:\n",
      "accuracy:  0.85\n",
      "f1:        0.85\n",
      "precision: 0.85\n",
      "recall:    0.85\n",
      "\n",
      "Train metrics for sgd classifier + tfidf vectorizer:\n",
      "accuracy:  0.9\n",
      "f1:        0.9\n",
      "precision: 0.88\n",
      "recall:    0.92\n"
     ]
    }
   ],
   "source": [
    "print(\"Test metrics for sgd classifier + tfidf vectorizer:\")\n",
    "print_metrics(y_test, y_pred_sgdc_tv)\n",
    "print(\"\\nTrain metrics for sgd classifier + tfidf vectorizer:\")\n",
    "print_metrics(y_train, y_pred_train_sgdc_tv)"
   ]
  },
  {
   "cell_type": "code",
   "execution_count": 37,
   "metadata": {},
   "outputs": [
    {
     "data": {
      "text/plain": [
       "<AxesSubplot:>"
      ]
     },
     "execution_count": 37,
     "metadata": {},
     "output_type": "execute_result"
    },
    {
     "data": {
      "image/png": "[encoded data removed]",
      "text/plain": [
       "<Figure size 432x288 with 2 Axes>"
      ]
     },
     "metadata": {
      "needs_background": "light"
     },
     "output_type": "display_data"
    }
   ],
   "source": [
    "sns.heatmap(\n",
    "    confusion_matrix(y_test, y_pred_sgdc_cv),\n",
    "    annot=True,\n",
    "    fmt=\"d\",\n",
    "    cmap=heatmap_cmap,\n",
    ")"
   ]
  },
  {
   "cell_type": "code",
   "execution_count": 38,
   "metadata": {},
   "outputs": [
    {
     "data": {
      "text/plain": [
       "<AxesSubplot:>"
      ]
     },
     "execution_count": 38,
     "metadata": {},
     "output_type": "execute_result"
    },
    {
     "data": {
      "image/png": "[encoded data removed]",
      "text/plain": [
       "<Figure size 432x288 with 2 Axes>"
      ]
     },
     "metadata": {
      "needs_background": "light"
     },
     "output_type": "display_data"
    }
   ],
   "source": [
    "sns.heatmap(\n",
    "    confusion_matrix(y_test, y_pred_sgdc_tv),\n",
    "    annot=True,\n",
    "    fmt=\"d\",\n",
    "    cmap=heatmap_cmap,\n",
    ")"
   ]
  },
  {
   "cell_type": "markdown",
   "metadata": {},
   "source": [
    "### Dummy classifier"
   ]
  },
  {
   "cell_type": "code",
   "execution_count": 39,
   "metadata": {},
   "outputs": [
    {
     "name": "stdout",
     "output_type": "stream",
     "text": [
      "CPU times: user 45 ms, sys: 20.2 ms, total: 65.2 ms\n",
      "Wall time: 94.8 ms\n"
     ]
    },
    {
     "name": "stderr",
     "output_type": "stream",
     "text": [
      "/media/mia/mia/hdd/Documents/KPI/semester_7/SSHI/lab1/venv/lib/python3.8/site-packages/sklearn/dummy.py:131: FutureWarning: The default value of strategy will change from stratified to prior in 0.24.\n",
      "  warnings.warn(\"The default value of strategy will change from \"\n"
     ]
    }
   ],
   "source": [
    "%%time\n",
    "dc_cv = DummyClassifier(\n",
    "    random_state=random_state\n",
    ").fit(x_train_cv, y_train)"
   ]
  },
  {
   "cell_type": "code",
   "execution_count": 40,
   "metadata": {},
   "outputs": [
    {
     "name": "stdout",
     "output_type": "stream",
     "text": [
      "CPU times: user 8.02 ms, sys: 159 µs, total: 8.17 ms\n",
      "Wall time: 6.14 ms\n"
     ]
    }
   ],
   "source": [
    "%%time\n",
    "dc_tv = DummyClassifier(\n",
    "    random_state=random_state\n",
    ").fit(x_train_tv, y_train)"
   ]
  },
  {
   "cell_type": "code",
   "execution_count": 41,
   "metadata": {},
   "outputs": [],
   "source": [
    "y_pred_dc_cv = dc_cv.predict(x_test_cv)\n",
    "y_pred_dc_tv = dc_tv.predict(x_test_tv)"
   ]
  },
  {
   "cell_type": "code",
   "execution_count": 42,
   "metadata": {},
   "outputs": [],
   "source": [
    "dc_cv_score = accuracy_score(y_test, y_pred_dc_cv)\n",
    "dc_tv_score = accuracy_score(y_test, y_pred_dc_tv)"
   ]
  },
  {
   "cell_type": "code",
   "execution_count": 43,
   "metadata": {},
   "outputs": [],
   "source": [
    "y_pred_train_dc_cv = dc_cv.predict(x_train_cv)\n",
    "y_pred_train_dc_tv = dc_tv.predict(x_train_tv)"
   ]
  },
  {
   "cell_type": "code",
   "execution_count": 44,
   "metadata": {},
   "outputs": [
    {
     "name": "stdout",
     "output_type": "stream",
     "text": [
      "Test metrics for dummy classifier + count vectorizer:\n",
      "accuracy:  0.5\n",
      "f1:        0.51\n",
      "precision: 0.5\n",
      "recall:    0.51\n",
      "\n",
      "Train metrics for dummy classifier + count vectorizer:\n",
      "accuracy:  0.5\n",
      "f1:        0.5\n",
      "precision: 0.5\n",
      "recall:    0.5\n"
     ]
    }
   ],
   "source": [
    "print(\"Test metrics for dummy classifier + count vectorizer:\")\n",
    "print_metrics(y_test, y_pred_dc_cv)\n",
    "print(\"\\nTrain metrics for dummy classifier + count vectorizer:\")\n",
    "print_metrics(y_train, y_pred_train_dc_cv)"
   ]
  },
  {
   "cell_type": "code",
   "execution_count": 45,
   "metadata": {},
   "outputs": [
    {
     "name": "stdout",
     "output_type": "stream",
     "text": [
      "Test metrics for dummy classifier + tfidf vectorizer:\n",
      "accuracy:  0.5\n",
      "f1:        0.51\n",
      "precision: 0.5\n",
      "recall:    0.51\n",
      "\n",
      "Train metrics for dummy classifier + tfidf vectorizer:\n",
      "accuracy:  0.5\n",
      "f1:        0.5\n",
      "precision: 0.5\n",
      "recall:    0.5\n"
     ]
    }
   ],
   "source": [
    "print(\"Test metrics for dummy classifier + tfidf vectorizer:\")\n",
    "print_metrics(y_test, y_pred_dc_tv)\n",
    "print(\"\\nTrain metrics for dummy classifier + tfidf vectorizer:\")\n",
    "print_metrics(y_train, y_pred_train_dc_tv)"
   ]
  },
  {
   "cell_type": "code",
   "execution_count": 46,
   "metadata": {},
   "outputs": [
    {
     "data": {
      "text/plain": [
       "<AxesSubplot:>"
      ]
     },
     "execution_count": 46,
     "metadata": {},
     "output_type": "execute_result"
    },
    {
     "data": {
      "image/png": "[encoded data removed]",
      "text/plain": [
       "<Figure size 432x288 with 2 Axes>"
      ]
     },
     "metadata": {
      "needs_background": "light"
     },
     "output_type": "display_data"
    }
   ],
   "source": [
    "sns.heatmap(\n",
    "    confusion_matrix(y_test, y_pred_dc_cv),\n",
    "    annot=True,\n",
    "    fmt=\"d\",\n",
    "    cmap=heatmap_cmap,\n",
    ")"
   ]
  },
  {
   "cell_type": "code",
   "execution_count": 47,
   "metadata": {},
   "outputs": [
    {
     "data": {
      "text/plain": [
       "<AxesSubplot:>"
      ]
     },
     "execution_count": 47,
     "metadata": {},
     "output_type": "execute_result"
    },
    {
     "data": {
      "image/png": "[encoded data removed]",
      "text/plain": [
       "<Figure size 432x288 with 2 Axes>"
      ]
     },
     "metadata": {
      "needs_background": "light"
     },
     "output_type": "display_data"
    }
   ],
   "source": [
    "sns.heatmap(\n",
    "    confusion_matrix(y_test, y_pred_dc_tv),\n",
    "    annot=True,\n",
    "    fmt=\"d\",\n",
    "    cmap=heatmap_cmap,\n",
    ")"
   ]
  },
  {
   "cell_type": "markdown",
   "metadata": {},
   "source": [
    "## Summary"
   ]
  },
  {
   "cell_type": "code",
   "execution_count": 48,
   "metadata": {},
   "outputs": [],
   "source": [
    "scores_with_dummy = pd.DataFrame(\n",
    "    [\n",
    "        calculate_metrics(y_test, y_pred_lr_cv),\n",
    "        calculate_metrics(y_test, y_pred_lr_tv),\n",
    "        calculate_metrics(y_test, y_pred_sgdc_cv),\n",
    "        calculate_metrics(y_test, y_pred_sgdc_tv),\n",
    "        calculate_metrics(y_test, y_pred_dc_cv),\n",
    "        calculate_metrics(y_test, y_pred_dc_tv),\n",
    "    ],\n",
    "    columns=[\"accuracy\", \"f1\", \"precision\", \"recall\"],\n",
    "    index=[\"LR + CV\", \"LR + TV\", \"SGD + CV\", \"SGD + TV\", \"DC + CV\", \"DC + TV\"]\n",
    ")\n",
    "\n",
    "scores_without_dummy = pd.DataFrame(\n",
    "    [\n",
    "        calculate_metrics(y_test, y_pred_lr_cv),\n",
    "        calculate_metrics(y_test, y_pred_lr_tv),\n",
    "        calculate_metrics(y_test, y_pred_sgdc_cv),\n",
    "        calculate_metrics(y_test, y_pred_sgdc_tv),\n",
    "    ],\n",
    "    columns=[\"accuracy\", \"f1\", \"precision\", \"recall\"],\n",
    "    index=[\"LR + CV\", \"LR + TV\", \"SGD + CV\", \"SGD + TV\"]\n",
    ")"
   ]
  },
  {
   "cell_type": "code",
   "execution_count": 49,
   "metadata": {},
   "outputs": [
    {
     "data": {
      "text/html": [
       "<div>\n",
       "<style scoped>\n",
       "    .dataframe tbody tr th:only-of-type {\n",
       "        vertical-align: middle;\n",
       "    }\n",
       "\n",
       "    .dataframe tbody tr th {\n",
       "        vertical-align: top;\n",
       "    }\n",
       "\n",
       "    .dataframe thead th {\n",
       "        text-align: right;\n",
       "    }\n",
       "</style>\n",
       "<table border=\"1\" class=\"dataframe\">\n",
       "  <thead>\n",
       "    <tr style=\"text-align: right;\">\n",
       "      <th></th>\n",
       "      <th>accuracy</th>\n",
       "      <th>f1</th>\n",
       "      <th>precision</th>\n",
       "      <th>recall</th>\n",
       "    </tr>\n",
       "  </thead>\n",
       "  <tbody>\n",
       "    <tr>\n",
       "      <th>LR + CV</th>\n",
       "      <td>0.858906</td>\n",
       "      <td>0.862121</td>\n",
       "      <td>0.848937</td>\n",
       "      <td>0.875721</td>\n",
       "    </tr>\n",
       "    <tr>\n",
       "      <th>LR + TV</th>\n",
       "      <td>0.850194</td>\n",
       "      <td>0.851949</td>\n",
       "      <td>0.848230</td>\n",
       "      <td>0.855701</td>\n",
       "    </tr>\n",
       "    <tr>\n",
       "      <th>SGD + CV</th>\n",
       "      <td>0.841158</td>\n",
       "      <td>0.843842</td>\n",
       "      <td>0.835821</td>\n",
       "      <td>0.852018</td>\n",
       "    </tr>\n",
       "    <tr>\n",
       "      <th>SGD + TV</th>\n",
       "      <td>0.848419</td>\n",
       "      <td>0.849499</td>\n",
       "      <td>0.849704</td>\n",
       "      <td>0.849295</td>\n",
       "    </tr>\n",
       "    <tr>\n",
       "      <th>DC + CV</th>\n",
       "      <td>0.499677</td>\n",
       "      <td>0.506917</td>\n",
       "      <td>0.503315</td>\n",
       "      <td>0.510570</td>\n",
       "    </tr>\n",
       "    <tr>\n",
       "      <th>DC + TV</th>\n",
       "      <td>0.499677</td>\n",
       "      <td>0.506917</td>\n",
       "      <td>0.503315</td>\n",
       "      <td>0.510570</td>\n",
       "    </tr>\n",
       "  </tbody>\n",
       "</table>\n",
       "</div>"
      ],
      "text/plain": [
       "          accuracy        f1  precision    recall\n",
       "LR + CV   0.858906  0.862121   0.848937  0.875721\n",
       "LR + TV   0.850194  0.851949   0.848230  0.855701\n",
       "SGD + CV  0.841158  0.843842   0.835821  0.852018\n",
       "SGD + TV  0.848419  0.849499   0.849704  0.849295\n",
       "DC + CV   0.499677  0.506917   0.503315  0.510570\n",
       "DC + TV   0.499677  0.506917   0.503315  0.510570"
      ]
     },
     "execution_count": 49,
     "metadata": {},
     "output_type": "execute_result"
    }
   ],
   "source": [
    "scores_with_dummy"
   ]
  },
  {
   "cell_type": "code",
   "execution_count": 50,
   "metadata": {},
   "outputs": [
    {
     "data": {
      "text/html": [
       "<div>\n",
       "<style scoped>\n",
       "    .dataframe tbody tr th:only-of-type {\n",
       "        vertical-align: middle;\n",
       "    }\n",
       "\n",
       "    .dataframe tbody tr th {\n",
       "        vertical-align: top;\n",
       "    }\n",
       "\n",
       "    .dataframe thead th {\n",
       "        text-align: right;\n",
       "    }\n",
       "</style>\n",
       "<table border=\"1\" class=\"dataframe\">\n",
       "  <thead>\n",
       "    <tr style=\"text-align: right;\">\n",
       "      <th></th>\n",
       "      <th>accuracy</th>\n",
       "      <th>f1</th>\n",
       "      <th>precision</th>\n",
       "      <th>recall</th>\n",
       "    </tr>\n",
       "  </thead>\n",
       "  <tbody>\n",
       "    <tr>\n",
       "      <th>LR + CV</th>\n",
       "      <td>0.858906</td>\n",
       "      <td>0.862121</td>\n",
       "      <td>0.848937</td>\n",
       "      <td>0.875721</td>\n",
       "    </tr>\n",
       "    <tr>\n",
       "      <th>LR + TV</th>\n",
       "      <td>0.850194</td>\n",
       "      <td>0.851949</td>\n",
       "      <td>0.848230</td>\n",
       "      <td>0.855701</td>\n",
       "    </tr>\n",
       "    <tr>\n",
       "      <th>SGD + CV</th>\n",
       "      <td>0.841158</td>\n",
       "      <td>0.843842</td>\n",
       "      <td>0.835821</td>\n",
       "      <td>0.852018</td>\n",
       "    </tr>\n",
       "    <tr>\n",
       "      <th>SGD + TV</th>\n",
       "      <td>0.848419</td>\n",
       "      <td>0.849499</td>\n",
       "      <td>0.849704</td>\n",
       "      <td>0.849295</td>\n",
       "    </tr>\n",
       "  </tbody>\n",
       "</table>\n",
       "</div>"
      ],
      "text/plain": [
       "          accuracy        f1  precision    recall\n",
       "LR + CV   0.858906  0.862121   0.848937  0.875721\n",
       "LR + TV   0.850194  0.851949   0.848230  0.855701\n",
       "SGD + CV  0.841158  0.843842   0.835821  0.852018\n",
       "SGD + TV  0.848419  0.849499   0.849704  0.849295"
      ]
     },
     "execution_count": 50,
     "metadata": {},
     "output_type": "execute_result"
    }
   ],
   "source": [
    "scores_without_dummy"
   ]
  },
  {
   "cell_type": "code",
   "execution_count": 51,
   "metadata": {},
   "outputs": [
    {
     "data": {
      "text/plain": [
       "<AxesSubplot:>"
      ]
     },
     "execution_count": 51,
     "metadata": {},
     "output_type": "execute_result"
    },
    {
     "data": {
      "image/png": "[encoded data removed]",
      "text/plain": [
       "<Figure size 432x288 with 2 Axes>"
      ]
     },
     "metadata": {
      "needs_background": "light"
     },
     "output_type": "display_data"
    }
   ],
   "source": [
    "sns.heatmap(\n",
    "    scores_with_dummy,\n",
    "    annot=True,\n",
    "    cmap=heatmap_cmap,\n",
    ")"
   ]
  },
  {
   "cell_type": "code",
   "execution_count": 52,
   "metadata": {
    "scrolled": true
   },
   "outputs": [
    {
     "data": {
      "text/plain": [
       "<AxesSubplot:>"
      ]
     },
     "execution_count": 52,
     "metadata": {},
     "output_type": "execute_result"
    },
    {
     "data": {
      "image/png": "[encoded data removed]",
      "text/plain": [
       "<Figure size 432x288 with 2 Axes>"
      ]
     },
     "metadata": {
      "needs_background": "light"
     },
     "output_type": "display_data"
    }
   ],
   "source": [
    "sns.heatmap(\n",
    "    scores_without_dummy,\n",
    "    annot=True,\n",
    "    cmap=heatmap_cmap,\n",
    ")"
   ]
  }
 ],
 "metadata": {
  "kernelspec": {
   "display_name": "Python 3",
   "language": "python",
   "name": "python3"
  },
  "language_info": {
   "codemirror_mode": {
    "name": "ipython",
    "version": 3
   },
   "file_extension": ".py",
   "mimetype": "text/x-python",
   "name": "python",
   "nbconvert_exporter": "python",
   "pygments_lexer": "ipython3",
   "version": "3.8.2"
  }
 },
 "nbformat": 4,
 "nbformat_minor": 4
}
